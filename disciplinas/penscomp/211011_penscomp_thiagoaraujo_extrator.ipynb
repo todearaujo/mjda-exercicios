{
  "nbformat": 4,
  "nbformat_minor": 0,
  "metadata": {
    "colab": {
      "name": "211011_penscomp_thiagoaraujo_extrator",
      "provenance": [],
      "collapsed_sections": []
    },
    "kernelspec": {
      "name": "python3",
      "display_name": "Python 3"
    },
    "language_info": {
      "name": "python"
    }
  },
  "cells": [
    {
      "cell_type": "code",
      "metadata": {
        "id": "LIptEwnxKReB"
      },
      "source": [
        "from bs4 import BeautifulSoup\n",
        "from urllib.request import urlopen"
      ],
      "execution_count": null,
      "outputs": []
    },
    {
      "cell_type": "code",
      "metadata": {
        "id": "lOp9ynd_PgoO",
        "colab": {
          "base_uri": "https://localhost:8080/"
        },
        "outputId": "3f85ceb4-d61a-48d0-e034-d045225cfbdb"
      },
      "source": [
        "#Subhome de Economia do UOL\n",
        "\n",
        "linkuol = \"https://economia.uol.com.br/\" #Link para extração\n",
        "respuol = urlopen(linkuol) #Requisição do conteúdo da página\n",
        "conteudouol = respuol.read().decode(\"utf-8\") #Definição da variável com o conteúdo\n",
        "soupuol = BeautifulSoup(conteudouol, \"html.parser\") #Chama o análise do BS\n",
        "\n",
        "for a in soupuol.find('div', {\"class\": \"highlights\"}).select('a[href]'): #Encontrar destaques e links\n",
        "  print(a.text.strip()) #Imprimir texto\n",
        "  print(a['href']) #Imprimir link\n",
        "  print() #Dar espaço"
      ],
      "execution_count": null,
      "outputs": [
        {
          "output_type": "stream",
          "name": "stdout",
          "text": [
            "Economista disse que não foi convidadoMansueto Almeida descarta substituir Paulo Guedes no Ministério da Economia\n",
            "http://economia.uol.com.br/noticias/redacao/2021/10/11/mansueto-almeida-descarta-substituir-paulo-guedes-no-ministerio-da-economia.htm\n",
            "\n",
            "Em meio ao caso offshore, Guedes viaja aos EUA para reuniões do FMI\n",
            "http://economia.uol.com.br/noticias/reuters/2021/10/11/guedes-viaja-aos-eua-para-reunioes-do-fmi-e-esclarecimento-sobre-offshore-pode-ser-adiado.htm\n",
            "\n",
            "Governo pede 'uso consciente' de luz, mas consumo da Presidência sobe 5,2%\n",
            "http://economia.uol.com.br/noticias/redacao/2021/10/11/governo-pede-uso-consciente-de-luz-mas-consumo-da-presidencia-sobe-6.htm\n",
            "\n",
            "Os caminhos para a legalização   Governo e Congresso tentam liberar cassino, jogo do bicho e bingo; entenda\n",
            "http://economia.uol.com.br/noticias/redacao/2021/10/11/cassino-resort-integrado-jogo-do-bicho-bingo-poker-apostas-legalizacao.htm\n",
            "\n",
            "O que são os 'experimentos naturais' premiados com o Nobel de Economia?\n",
            "http://economia.uol.com.br/noticias/afp/2021/10/11/o-que-sao-os-experimentos-naturais-premiados-com-o-nobel-de-economia.htm\n",
            "\n",
            "Trio de especialistas da área experimental ganha Nobel de Economia\n",
            "http://economia.uol.com.br/noticias/redacao/2021/10/11/premio-nobel-de-economia-2021.htm\n",
            "\n",
            "Fechamento   Dólar fecha em R$ 5,5371 e tem maior cotação em seis meses\n",
            "http://economia.uol.com.br/cotacoes/noticias/redacao/2021/10/11/fechamento-dolar-ibovespa-11-de-outubro.htm\n",
            "\n",
            "Bolsa   Embraer: ações fecham em alta de 4,89% após anúncio de encomenda bilionária\n",
            "http://economia.uol.com.br/noticias/redacao/2021/10/11/acoes-da-embraer-disparam-com-anuncio-de-encomenda-bilionaria.htm\n",
            "\n",
            "Lista da Forbes   Buffett lidera ranking de bilionários que mais doaram em 2021\n",
            "http://economia.uol.com.br/noticias/redacao/2021/10/11/bilionarios-doacoes-forbes.htm\n",
            "\n",
            "UOL Líderes   Banco Inter: É melhor restringir do que dar muito crédito e ter juro alto\n",
            "http://economia.uol.com.br/reportagens-especiais/entrevista-uol-lideres-helena-lopes-caldeira-cfo-do-banco-inter/index.htm\n",
            "\n",
            "Finanças Pessoais   Cobranças indevidas no crédito consignado sobem; o que fazer se for vítima\n",
            "http://economia.uol.com.br/financas-pessoais/noticias/redacao/2021/10/11/cobrancas-indevidas-no-credito-consignado-aumentam-saiba-o-que-fazer.htm\n",
            "\n"
          ]
        }
      ]
    },
    {
      "cell_type": "code",
      "metadata": {
        "colab": {
          "base_uri": "https://localhost:8080/"
        },
        "id": "ONA9yOjWkjqM",
        "outputId": "65e51d6e-a541-45e8-a5ed-ff084c25aa0b"
      },
      "source": [
        "#Subhome de Economia do Globo\n",
        "\n",
        "lglobo = \"https://oglobo.globo.com/economia/\" #Link para extração\n",
        "rglobo = urlopen(lglobo) #Requisição do conteúdo da página\n",
        "rglobo = rglobo.read().decode(\"utf-8\") #Definição da variável com o conteúdo\n",
        "sglobo = BeautifulSoup(rglobo, \"html.parser\") #Chama o análise do BS\n",
        "\n",
        "for a in sglobo.find('section', {\"class\": \"block five-teasers\"}).select('a[href]'): #Encontrar destaques e links\n",
        "  print(a.text.strip()) #Imprimir texto\n",
        "  print(a['href']) #Imprimir link"
      ],
      "execution_count": null,
      "outputs": [
        {
          "output_type": "stream",
          "name": "stdout",
          "text": [
            "\n",
            "https://oglobo.globo.com/economia/eua-nao-vao-pressionar-pela-demissao-da-chefe-do-fmi-acusada-de-favorecer-china-no-banco-mundial-25233388\n",
            "EUA não vão pressionar pela demissão da chefe do FMI, acusada de favorecer China no Banco Mundial\n",
            "https://oglobo.globo.com/economia/eua-nao-vao-pressionar-pela-demissao-da-chefe-do-fmi-acusada-de-favorecer-china-no-banco-mundial-25233388\n",
            "\n",
            "https://oglobo.globo.com/economia/warren-buffet-o-bilionario-americano-que-mais-doou-em-2021-aponta-ranking-da-forbes-25233276\n",
            "Warren Buffet é o bilionário americano que mais doou em 2021, aponta ranking da Forbes\n",
            "https://oglobo.globo.com/economia/warren-buffet-o-bilionario-americano-que-mais-doou-em-2021-aponta-ranking-da-forbes-25233276\n",
            "\n",
            "https://oglobo.globo.com/economia/facebook-altera-forma-como-contabiliza-usuarios-para-anunciantes-25233237\n",
            "Facebook altera a forma como contabiliza usuários para anunciantes\n",
            "https://oglobo.globo.com/economia/facebook-altera-forma-como-contabiliza-usuarios-para-anunciantes-25233237\n",
            "\n",
            "https://oglobo.globo.com/economia/investimentos/tensao-global-entenda-por-que-dolar-comecou-semana-cotado-r-553-maior-patamar-desde-abril-25232559\n",
            "Tensão global: entenda por que dólar começou a semana cotado a R$ 5,53, o maior patamar desde abril\n",
            "https://oglobo.globo.com/economia/investimentos/tensao-global-entenda-por-que-dolar-comecou-semana-cotado-r-553-maior-patamar-desde-abril-25232559\n",
            "\n",
            "https://blogs.oglobo.globo.com/capital/post/proposta-do-bc-faz-pagseguro-sangrar-mais-de-r-20-bilhoes-na-bolsa-em-apenas-dois-dias.html\n",
            "Proposta do BC faz PagSeguro ‘sangrar’ mais de R$ 20 bilhões na Bolsa em apenas dois dias\n",
            "https://blogs.oglobo.globo.com/capital/post/proposta-do-bc-faz-pagseguro-sangrar-mais-de-r-20-bilhoes-na-bolsa-em-apenas-dois-dias.html\n"
          ]
        }
      ]
    },
    {
      "cell_type": "code",
      "metadata": {
        "id": "IFZA-h2aKWMx",
        "colab": {
          "base_uri": "https://localhost:8080/"
        },
        "outputId": "9694f520-65a6-45b4-8868-8037f9514ef0"
      },
      "source": [
        "#Subhome de Economia da Folha\n",
        "\n",
        "lfolha = \"https://www1.folha.uol.com.br/mercado/\" #Link para extração\n",
        "rfolha = urlopen(lfolha) #Requisição do conteúdo da página\n",
        "cfolha = rfolha.read().decode(\"utf-8\") #Definição da variável com o conteúdo\n",
        "sfolha = BeautifulSoup(cfolha, \"html.parser\") #Chama o análise do BS\n",
        "\n",
        "for h2 in sfolha.find_all(\"h2\",{'class': 'c-headline__title'}): #Escrever uma linha para título\n",
        "  folhamercado = h2.text.strip() #Escrever uma linha para cada\n",
        "  print(folhamercado) #Mostrar o resultado"
      ],
      "execution_count": null,
      "outputs": [
        {
          "output_type": "stream",
          "name": "stdout",
          "text": [
            "Inflação-sombra ganha lugar à nossa volta\n",
            "Acender vela pra santo e orixá fica mais caro após Petrobras diminuir produção de parafina\n",
            "BC fará 'o que puder' para garantir inflação na meta em 2022, diz diretora\n",
            "Como fica o aluguel de carros no Brasil se a Localiza comprar a Unidas\n",
            "Plataforma consumidor.gov passa a receber queixas sobre redes sociais\n",
            "Nobel de Economia vai para pesquisas sobre mercado de trabalho e relações de causa e efeito\n",
            "Pandemia acelera enxugamento de rede bancária e 89 municípios perdem agência\n",
            "Processo sobre correção do FGTS espera julgamento no Supremo há dois anos\n",
            "Embraer recebe encomenda de US$ 1,2 bi de companhia de Warren Buffett\n",
            "Bolsa do Brasil cai 12% no ano enquanto pregões de Nova York sobem dois dígitos\n",
            "Entenda o que são e como funcionam fundos quantitativos\n",
            "'Nossa disposição de investir no Digio era maior que a do BB', diz executivo do Bradesco\n",
            "Instagram testa função que notifica usuários de problemas na plataforma\n",
            "Plataforma consumidor.gov passa a receber queixas sobre redes sociais\n",
            "Acender vela pra santo e orixá fica mais caro após Petrobras diminuir produção de parafina\n",
            "Primeira infância é janela de oportunidade preciosa demais para ser desperdiçada\n",
            "Bolsa inicia semana em queda de 0,6% em sessão de maior aversão ao risco global\n",
            "BC fará 'o que puder' para garantir inflação na meta em 2022, diz diretora\n",
            "Carta do Pokemón e brinquedo de grupo voltam a crescer no varejo\n",
            "Semana do Investidor mostra que quem não diversifica carteira corre risco\n",
            "Risco Brasil tem alta de 24% no ano e reforça piora do cenário para investidores\n",
            "Projeto que prevê 14º para aposentados recebe parecer favorável em comissão\n",
            "Amazon libera equipes para decidirem quantos dias trabalhar no escritório\n",
            "Casa Branca mantém apelo para Opep+ fazer mais por preços do petróleo, diz agência\n",
            "Inflação deve ter alcançado pico em setembro, diz JP Morgan\n",
            "Presidente do JPMorgan diz que bitcoin 'não vale a pena'\n",
            "Forbes: Buffett lidera ranking de bilionários que mais doaram em 2021\n",
            "China venceu batalha de inteligência artificial com EUA, diz ex-chefe de software do Pentágono\n",
            "Créditos da Nota Fiscal Paulista passam a vencer em um ano\n",
            "Dívida de países pobres sobe 12% e bate recorde de US$ 860 bi em 2020, diz Banco Mundial\n",
            "Rede D'Or perde ação na Justiça para tentar reduzir aluguel de R$ 2,6 mi\n",
            "Pessoas terão que se acostumar a comida mais cara, diz presidente da Kraft Heinz\n",
            "Vencedores do Nobel de Economia aperfeiçoaram o modo de avaliar políticas públicas\n",
            "Inflação-sombra ganha lugar à nossa volta\n",
            "Perfuração de poços artesianos se multiplica em São Paulo\n",
            "Nobel completa 120 anos premiando poucas mulheres e nenhum brasileiro\n",
            "Confira quais são os principais direitos dos idosos no Brasil\n",
            "Gol prevê prejuízo para 3º tri e espera elevar capacidade em 30% até dezembro\n",
            "Bolsa brasileira sobe 0,5% em sessão esvaziada por feriados no Brasil e nos EUA\n",
            "Fábricas de panetone antecipam produção para esperar um Natal melhor em 2021\n",
            "Como fica o aluguel de carros no Brasil se a Localiza comprar a Unidas\n",
            "Província industrial da China alerta para novos problemas de abastecimento de energia\n",
            "CVC restaura parcialmente seus sistemas de TI após ataque cibernético\n",
            "Embraer recebe encomenda de US$ 1,2 bi de companhia de Warren Buffett\n",
            "Mercado passa a ver Selic a 8,75% em 2022 em meio a projeções mais altas para inflação, mostra Focus\n",
            "Nobel de Economia vai para pesquisas sobre mercado de trabalho e relações de causa e efeito\n",
            "Mais de mil empresas levam carta sobre biodiversidade aos governos na COP15 nesta segunda\n",
            "Moda deve movimentar cerca de R$ 169,3 bilhões até o final de 2021, diz IPC Maps\n",
            "Criticado, Facebook diz que pode permitir acesso a reguladoras\n",
            "Construção civil vê dificuldade para contratar mão de obra\n",
            "Debate sobre regulação esquenta após pane do WhatsApp\n",
            "Restaurantes questionam taxas de Uber Eats e outros aplicativos de comida nos EUA\n",
            "Pandemia acelera enxugamento de rede bancária e 89 municípios perdem agência\n",
            "A privacidade de dados e os impactos no consumo dos produtos e serviços\n",
            "'A indústria da mudança social perpetua a pobreza ou a faz tolerável', diz chefe de inovação social do Fórum Econômico Mundial\n",
            "Entenda o que são e como funcionam fundos quantitativos\n",
            "Quase 70% das empresas não devem investir em saúde de funcionário no pós-pandemia, diz pesquisa\n",
            "Uber conclui ação que doava viagens a locais de vacinação\n",
            "Qual é a promessa das criptomoedas?\n",
            "Brasil vai negociar na COP-26 aumento de financiamento dado por países ricos\n",
            "Entenda como usar ações para fazer a poupança dos filhos\n",
            "Magalu vai colocar 51 caminhões elétricos nas ruas até dezembro\n",
            "INSS leva mais de um ano para dar resposta final para recurso\n",
            "Diferenças e semelhanças entre VGBL e fundo de investimento\n",
            "Bolsa do Brasil cai 12% no ano enquanto pregões de Nova York sobem dois dígitos\n",
            "Processo sobre correção do FGTS espera julgamento no Supremo há dois anos\n",
            "Entenda por que BDRs podem não ser bons investimentos para viver de renda\n",
            "'Nossa disposição de investir no Digio era maior que a do BB', diz executivo do Bradesco\n",
            "Turbulências à frente na novela orçamentária\n",
            "Nova Déli entra em alerta por crise iminente na produção de eletricidade\n",
            "Indústria britânica alerta que fábricas podem fechar sem ajuda com preço do combustível\n",
            "Vibra compra 50% de participação na comercializadora de energia Comerc\n",
            "Concessões geram interesse nos EUA, mas investidores questionam câmbio e meio ambiente\n",
            "China pressiona EUA para cancelar tarifas em teste de compromisso bilateral\n",
            "Primeiros Teslas de Berlim podem sair da fábrica no próximo mês, diz Musk a fãs\n",
            "Economia brasileira só retoma tendência pré-pandemia a partir de 2025, calcula FGV\n",
            "Índices de confiança desaceleram e explicam perda de fôlego da retomada\n",
            "Indiano se junta a Musk e Bezos entre os bilionários com mais de US$ 100 bi\n",
            "Gasolina mais cara: 4 motivos para disparada de preço dos combustíveis\n",
            "Ações para conter alta dos combustíveis levantam debate sobre populismo\n",
            "A inflação de Bolsonaro é das mais perversas do século\n",
            "Saiba planejar a aposentadoria do INSS para receber mais\n",
            "Toffoli arquiva pedidos de investigação contra Guedes e Campos Neto sobre offshores\n",
            "Design não é só arte, é negócio, diz Jader Almeida\n",
            "Governo prevê gastar mais com contratação de servidores em ano eleitoral\n",
            "25 de Março espera superar desempenho do pré-pandemia neste Dia da Criança\n",
            "Volkswagen Fox sai de linha e leva junto o conceito de carro popular espaçoso\n",
            "Promoções da Black Friday estão ameaçadas pela crise dos contêineres\n",
            "Impressora 3D constrói casas para moradores pobres no México\n",
            "Inclusão de refugiados no mercado de trabalho entra na pauta ESG das empresas\n",
            "Apple apela de veredicto em batalha legal com a Epic Games\n",
            "Bradesco compra fatia do BB no Digio por R$ 625 milhões\n",
            "Indústria farmacêutica faz acordo com trabalhadores para exigir comprovante de vacina\n",
            "Elon Musk anuncia que sede principal da Tesla vai mudar para o Texas\n",
            "Bolsonaro diz que não vai congelar preço de combustíveis na canetada\n",
            "Preços de chips em alta fazem Samsung ter melhor lucro trimestral em três anos\n",
            "Marcos Pontes diz ter pensado em deixar governo após corte de R$ 600 mi em seu ministério\n",
            "Sabesp se une a bares e restaurantes em campanha sobre falta d'água\n",
            "Ministério da Agricultura contraria Bolsonaro e não vê risco de falta de alimentos\n",
            "ONS prevê chuvas acima da média sobre os principais reservatórios do país\n",
            "Santander registra R$ 9,5 milhões em doações para projetos sociais em 15 dias\n",
            "Bolsa tem alta de 2% e zera perdas da semana após inflação abaixo do esperado\n",
            "Diesel sobe 3,3% nas bombas e se aproxima de R$ 5 por litro\n",
            "Brasil e Argentina fecham acordo para reduzir tarifa comum do Mercosul em 10%, em uma derrota para Guedes\n",
            "Bolsonaro fala em desabastecimento por falta de fertilizantes; entenda\n",
            "Disposição de gastar com presente no Dia das Crianças sobe neste ano\n",
            "A mais importante disrupção é preparar novas gerações de professores para utilizar tecnologias\n",
            "Bolsonaro edita decreto que exige registro para quem aplica agrotóxico no país\n",
            "Aneel autoriza reajuste de tarifa de três térmicas por alta dos combustíveis\n",
            "Desenvolvimentistas se inspiram em Biden, mas reconhecem limites para imitá-lo no Brasil\n",
            "Carnes, combustíveis e passagem aérea disparam na pandemia; veja a alta de preços\n",
            "Instagram apresenta instabilidade quatro dias após ficar fora do ar\n"
          ]
        }
      ]
    },
    {
      "cell_type": "code",
      "metadata": {
        "colab": {
          "base_uri": "https://localhost:8080/",
          "height": 357
        },
        "id": "pAIrrbmmm-so",
        "outputId": "b0505bd0-312a-43c0-8ff5-8eb2a2637a99"
      },
      "source": [
        "#Subhome de Economia do Estadão\n",
        "\n",
        "linkestadao = \"https://economia.estadao.com.br/\" #Link para extração\n",
        "respestadao = urlopen(linkestadao) #Requisição do conteúdo da página\n",
        "conteudoestadao = respestadao.read().decode(\"utf-8\") #Definição da variável com o conteúdo"
      ],
      "execution_count": null,
      "outputs": [
        {
          "output_type": "error",
          "ename": "HTTPError",
          "evalue": "ignored",
          "traceback": [
            "\u001b[0;31m---------------------------------------------------------------------------\u001b[0m",
            "\u001b[0;31mHTTPError\u001b[0m                                 Traceback (most recent call last)",
            "\u001b[0;32m<ipython-input-80-3bfd62dfe26f>\u001b[0m in \u001b[0;36m<module>\u001b[0;34m()\u001b[0m\n\u001b[1;32m      2\u001b[0m \u001b[0;34m\u001b[0m\u001b[0m\n\u001b[1;32m      3\u001b[0m \u001b[0mlinkestadao\u001b[0m \u001b[0;34m=\u001b[0m \u001b[0;34m\"https://economia.estadao.com.br/\"\u001b[0m \u001b[0;31m#Link para extração\u001b[0m\u001b[0;34m\u001b[0m\u001b[0;34m\u001b[0m\u001b[0m\n\u001b[0;32m----> 4\u001b[0;31m \u001b[0mrespestadao\u001b[0m \u001b[0;34m=\u001b[0m \u001b[0murlopen\u001b[0m\u001b[0;34m(\u001b[0m\u001b[0mlinkestadao\u001b[0m\u001b[0;34m)\u001b[0m \u001b[0;31m#Requisição do conteúdo da página\u001b[0m\u001b[0;34m\u001b[0m\u001b[0;34m\u001b[0m\u001b[0m\n\u001b[0m\u001b[1;32m      5\u001b[0m \u001b[0mconteudoestadao\u001b[0m \u001b[0;34m=\u001b[0m \u001b[0mrespestadao\u001b[0m\u001b[0;34m.\u001b[0m\u001b[0mread\u001b[0m\u001b[0;34m(\u001b[0m\u001b[0;34m)\u001b[0m\u001b[0;34m.\u001b[0m\u001b[0mdecode\u001b[0m\u001b[0;34m(\u001b[0m\u001b[0;34m\"utf-8\"\u001b[0m\u001b[0;34m)\u001b[0m \u001b[0;31m#Definição da variável com o conteúdo\u001b[0m\u001b[0;34m\u001b[0m\u001b[0;34m\u001b[0m\u001b[0m\n",
            "\u001b[0;32m/usr/lib/python3.7/urllib/request.py\u001b[0m in \u001b[0;36murlopen\u001b[0;34m(url, data, timeout, cafile, capath, cadefault, context)\u001b[0m\n\u001b[1;32m    220\u001b[0m     \u001b[0;32melse\u001b[0m\u001b[0;34m:\u001b[0m\u001b[0;34m\u001b[0m\u001b[0;34m\u001b[0m\u001b[0m\n\u001b[1;32m    221\u001b[0m         \u001b[0mopener\u001b[0m \u001b[0;34m=\u001b[0m \u001b[0m_opener\u001b[0m\u001b[0;34m\u001b[0m\u001b[0;34m\u001b[0m\u001b[0m\n\u001b[0;32m--> 222\u001b[0;31m     \u001b[0;32mreturn\u001b[0m \u001b[0mopener\u001b[0m\u001b[0;34m.\u001b[0m\u001b[0mopen\u001b[0m\u001b[0;34m(\u001b[0m\u001b[0murl\u001b[0m\u001b[0;34m,\u001b[0m \u001b[0mdata\u001b[0m\u001b[0;34m,\u001b[0m \u001b[0mtimeout\u001b[0m\u001b[0;34m)\u001b[0m\u001b[0;34m\u001b[0m\u001b[0;34m\u001b[0m\u001b[0m\n\u001b[0m\u001b[1;32m    223\u001b[0m \u001b[0;34m\u001b[0m\u001b[0m\n\u001b[1;32m    224\u001b[0m \u001b[0;32mdef\u001b[0m \u001b[0minstall_opener\u001b[0m\u001b[0;34m(\u001b[0m\u001b[0mopener\u001b[0m\u001b[0;34m)\u001b[0m\u001b[0;34m:\u001b[0m\u001b[0;34m\u001b[0m\u001b[0;34m\u001b[0m\u001b[0m\n",
            "\u001b[0;32m/usr/lib/python3.7/urllib/request.py\u001b[0m in \u001b[0;36mopen\u001b[0;34m(self, fullurl, data, timeout)\u001b[0m\n\u001b[1;32m    529\u001b[0m         \u001b[0;32mfor\u001b[0m \u001b[0mprocessor\u001b[0m \u001b[0;32min\u001b[0m \u001b[0mself\u001b[0m\u001b[0;34m.\u001b[0m\u001b[0mprocess_response\u001b[0m\u001b[0;34m.\u001b[0m\u001b[0mget\u001b[0m\u001b[0;34m(\u001b[0m\u001b[0mprotocol\u001b[0m\u001b[0;34m,\u001b[0m \u001b[0;34m[\u001b[0m\u001b[0;34m]\u001b[0m\u001b[0;34m)\u001b[0m\u001b[0;34m:\u001b[0m\u001b[0;34m\u001b[0m\u001b[0;34m\u001b[0m\u001b[0m\n\u001b[1;32m    530\u001b[0m             \u001b[0mmeth\u001b[0m \u001b[0;34m=\u001b[0m \u001b[0mgetattr\u001b[0m\u001b[0;34m(\u001b[0m\u001b[0mprocessor\u001b[0m\u001b[0;34m,\u001b[0m \u001b[0mmeth_name\u001b[0m\u001b[0;34m)\u001b[0m\u001b[0;34m\u001b[0m\u001b[0;34m\u001b[0m\u001b[0m\n\u001b[0;32m--> 531\u001b[0;31m             \u001b[0mresponse\u001b[0m \u001b[0;34m=\u001b[0m \u001b[0mmeth\u001b[0m\u001b[0;34m(\u001b[0m\u001b[0mreq\u001b[0m\u001b[0;34m,\u001b[0m \u001b[0mresponse\u001b[0m\u001b[0;34m)\u001b[0m\u001b[0;34m\u001b[0m\u001b[0;34m\u001b[0m\u001b[0m\n\u001b[0m\u001b[1;32m    532\u001b[0m \u001b[0;34m\u001b[0m\u001b[0m\n\u001b[1;32m    533\u001b[0m         \u001b[0;32mreturn\u001b[0m \u001b[0mresponse\u001b[0m\u001b[0;34m\u001b[0m\u001b[0;34m\u001b[0m\u001b[0m\n",
            "\u001b[0;32m/usr/lib/python3.7/urllib/request.py\u001b[0m in \u001b[0;36mhttp_response\u001b[0;34m(self, request, response)\u001b[0m\n\u001b[1;32m    639\u001b[0m         \u001b[0;32mif\u001b[0m \u001b[0;32mnot\u001b[0m \u001b[0;34m(\u001b[0m\u001b[0;36m200\u001b[0m \u001b[0;34m<=\u001b[0m \u001b[0mcode\u001b[0m \u001b[0;34m<\u001b[0m \u001b[0;36m300\u001b[0m\u001b[0;34m)\u001b[0m\u001b[0;34m:\u001b[0m\u001b[0;34m\u001b[0m\u001b[0;34m\u001b[0m\u001b[0m\n\u001b[1;32m    640\u001b[0m             response = self.parent.error(\n\u001b[0;32m--> 641\u001b[0;31m                 'http', request, response, code, msg, hdrs)\n\u001b[0m\u001b[1;32m    642\u001b[0m \u001b[0;34m\u001b[0m\u001b[0m\n\u001b[1;32m    643\u001b[0m         \u001b[0;32mreturn\u001b[0m \u001b[0mresponse\u001b[0m\u001b[0;34m\u001b[0m\u001b[0;34m\u001b[0m\u001b[0m\n",
            "\u001b[0;32m/usr/lib/python3.7/urllib/request.py\u001b[0m in \u001b[0;36merror\u001b[0;34m(self, proto, *args)\u001b[0m\n\u001b[1;32m    567\u001b[0m         \u001b[0;32mif\u001b[0m \u001b[0mhttp_err\u001b[0m\u001b[0;34m:\u001b[0m\u001b[0;34m\u001b[0m\u001b[0;34m\u001b[0m\u001b[0m\n\u001b[1;32m    568\u001b[0m             \u001b[0margs\u001b[0m \u001b[0;34m=\u001b[0m \u001b[0;34m(\u001b[0m\u001b[0mdict\u001b[0m\u001b[0;34m,\u001b[0m \u001b[0;34m'default'\u001b[0m\u001b[0;34m,\u001b[0m \u001b[0;34m'http_error_default'\u001b[0m\u001b[0;34m)\u001b[0m \u001b[0;34m+\u001b[0m \u001b[0morig_args\u001b[0m\u001b[0;34m\u001b[0m\u001b[0;34m\u001b[0m\u001b[0m\n\u001b[0;32m--> 569\u001b[0;31m             \u001b[0;32mreturn\u001b[0m \u001b[0mself\u001b[0m\u001b[0;34m.\u001b[0m\u001b[0m_call_chain\u001b[0m\u001b[0;34m(\u001b[0m\u001b[0;34m*\u001b[0m\u001b[0margs\u001b[0m\u001b[0;34m)\u001b[0m\u001b[0;34m\u001b[0m\u001b[0;34m\u001b[0m\u001b[0m\n\u001b[0m\u001b[1;32m    570\u001b[0m \u001b[0;34m\u001b[0m\u001b[0m\n\u001b[1;32m    571\u001b[0m \u001b[0;31m# XXX probably also want an abstract factory that knows when it makes\u001b[0m\u001b[0;34m\u001b[0m\u001b[0;34m\u001b[0m\u001b[0;34m\u001b[0m\u001b[0m\n",
            "\u001b[0;32m/usr/lib/python3.7/urllib/request.py\u001b[0m in \u001b[0;36m_call_chain\u001b[0;34m(self, chain, kind, meth_name, *args)\u001b[0m\n\u001b[1;32m    501\u001b[0m         \u001b[0;32mfor\u001b[0m \u001b[0mhandler\u001b[0m \u001b[0;32min\u001b[0m \u001b[0mhandlers\u001b[0m\u001b[0;34m:\u001b[0m\u001b[0;34m\u001b[0m\u001b[0;34m\u001b[0m\u001b[0m\n\u001b[1;32m    502\u001b[0m             \u001b[0mfunc\u001b[0m \u001b[0;34m=\u001b[0m \u001b[0mgetattr\u001b[0m\u001b[0;34m(\u001b[0m\u001b[0mhandler\u001b[0m\u001b[0;34m,\u001b[0m \u001b[0mmeth_name\u001b[0m\u001b[0;34m)\u001b[0m\u001b[0;34m\u001b[0m\u001b[0;34m\u001b[0m\u001b[0m\n\u001b[0;32m--> 503\u001b[0;31m             \u001b[0mresult\u001b[0m \u001b[0;34m=\u001b[0m \u001b[0mfunc\u001b[0m\u001b[0;34m(\u001b[0m\u001b[0;34m*\u001b[0m\u001b[0margs\u001b[0m\u001b[0;34m)\u001b[0m\u001b[0;34m\u001b[0m\u001b[0;34m\u001b[0m\u001b[0m\n\u001b[0m\u001b[1;32m    504\u001b[0m             \u001b[0;32mif\u001b[0m \u001b[0mresult\u001b[0m \u001b[0;32mis\u001b[0m \u001b[0;32mnot\u001b[0m \u001b[0;32mNone\u001b[0m\u001b[0;34m:\u001b[0m\u001b[0;34m\u001b[0m\u001b[0;34m\u001b[0m\u001b[0m\n\u001b[1;32m    505\u001b[0m                 \u001b[0;32mreturn\u001b[0m \u001b[0mresult\u001b[0m\u001b[0;34m\u001b[0m\u001b[0;34m\u001b[0m\u001b[0m\n",
            "\u001b[0;32m/usr/lib/python3.7/urllib/request.py\u001b[0m in \u001b[0;36mhttp_error_default\u001b[0;34m(self, req, fp, code, msg, hdrs)\u001b[0m\n\u001b[1;32m    647\u001b[0m \u001b[0;32mclass\u001b[0m \u001b[0mHTTPDefaultErrorHandler\u001b[0m\u001b[0;34m(\u001b[0m\u001b[0mBaseHandler\u001b[0m\u001b[0;34m)\u001b[0m\u001b[0;34m:\u001b[0m\u001b[0;34m\u001b[0m\u001b[0;34m\u001b[0m\u001b[0m\n\u001b[1;32m    648\u001b[0m     \u001b[0;32mdef\u001b[0m \u001b[0mhttp_error_default\u001b[0m\u001b[0;34m(\u001b[0m\u001b[0mself\u001b[0m\u001b[0;34m,\u001b[0m \u001b[0mreq\u001b[0m\u001b[0;34m,\u001b[0m \u001b[0mfp\u001b[0m\u001b[0;34m,\u001b[0m \u001b[0mcode\u001b[0m\u001b[0;34m,\u001b[0m \u001b[0mmsg\u001b[0m\u001b[0;34m,\u001b[0m \u001b[0mhdrs\u001b[0m\u001b[0;34m)\u001b[0m\u001b[0;34m:\u001b[0m\u001b[0;34m\u001b[0m\u001b[0;34m\u001b[0m\u001b[0m\n\u001b[0;32m--> 649\u001b[0;31m         \u001b[0;32mraise\u001b[0m \u001b[0mHTTPError\u001b[0m\u001b[0;34m(\u001b[0m\u001b[0mreq\u001b[0m\u001b[0;34m.\u001b[0m\u001b[0mfull_url\u001b[0m\u001b[0;34m,\u001b[0m \u001b[0mcode\u001b[0m\u001b[0;34m,\u001b[0m \u001b[0mmsg\u001b[0m\u001b[0;34m,\u001b[0m \u001b[0mhdrs\u001b[0m\u001b[0;34m,\u001b[0m \u001b[0mfp\u001b[0m\u001b[0;34m)\u001b[0m\u001b[0;34m\u001b[0m\u001b[0;34m\u001b[0m\u001b[0m\n\u001b[0m\u001b[1;32m    650\u001b[0m \u001b[0;34m\u001b[0m\u001b[0m\n\u001b[1;32m    651\u001b[0m \u001b[0;32mclass\u001b[0m \u001b[0mHTTPRedirectHandler\u001b[0m\u001b[0;34m(\u001b[0m\u001b[0mBaseHandler\u001b[0m\u001b[0;34m)\u001b[0m\u001b[0;34m:\u001b[0m\u001b[0;34m\u001b[0m\u001b[0;34m\u001b[0m\u001b[0m\n",
            "\u001b[0;31mHTTPError\u001b[0m: HTTP Error 403: Forbidden"
          ]
        }
      ]
    }
  ]
}